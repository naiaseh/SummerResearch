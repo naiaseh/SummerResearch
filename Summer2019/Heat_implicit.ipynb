{
 "cells": [
  {
   "cell_type": "code",
   "execution_count": 1,
   "metadata": {},
   "outputs": [],
   "source": [
    "import pandas as pd\n",
    "import numpy as np\n",
    "import scipy as ss\n",
    "import scipy.stats as ss\n",
    "from scipy.stats import norm\n",
    "\n",
    "import matplotlib\n",
    "matplotlib.use('TkAgg')\n",
    "import matplotlib.pyplot as plt \n",
    "%matplotlib inline\n",
    "import math\n",
    "import seaborn as sns\n",
    "\n",
    "import scipy.stats as ss\n",
    "from scipy.stats import norm\n",
    "import scipy.optimize as so\n",
    "from scipy.optimize import fsolve\n",
    "from scipy.integrate import odeint\n",
    "from scipy import sparse\n",
    "\n",
    "from scipy.sparse import diags"
   ]
  },
  {
   "cell_type": "code",
   "execution_count": 202,
   "metadata": {},
   "outputs": [
    {
     "name": "stdout",
     "output_type": "stream",
     "text": [
      "(30,)\n"
     ]
    }
   ],
   "source": [
    "from matplotlib import pyplot\n",
    "L=2*np.pi\n",
    "nx=5 #21 works with dt=10e-6\n",
    "x = np.linspace(0,L,nx)\n",
    "dx = L/(nx-1) #the entire grid is 2 units\n",
    "nt = 30\n",
    "t = np.linspace(0,0.5,nt)\n",
    "dt = 10e-3\n",
    "u = 2*np.sin(np.pi/2*x)*np.exp(-np.pi**2/16 *0)-np.sin(np.pi*x)*np.exp(-np.pi**2/4*0)-np.sin(2*np.pi*x)*np.exp(-np.pi**2*0) #setting the initial condition\n",
    "\n",
    "alpha=1/4\n",
    "\n",
    "c = 1 #assumed wavespeed\n",
    "sigmaa = 0.5\n",
    "    \n",
    "\n",
    "\n",
    "ufull=np.zeros([nx,nt]) #ufull\n",
    "print(t.shape)"
   ]
  },
  {
   "cell_type": "code",
   "execution_count": 203,
   "metadata": {},
   "outputs": [],
   "source": [
    "# for n in range(nt):\n",
    "    \n",
    "#     un = u.copy() #copy existing values of u into un\n",
    "#     for i in range (1, nx-1):\n",
    "#     #for i in range(nx): #see what happens\n",
    "#         u[i]= alpha*(un[i-1]-2*un[i]+un[i+1])/dx**2 *dt + un[i]\n",
    "#         u[0]=alpha*(un[nx-2]-2*un[0]+un[1])/dx**2 *dt + un[0]\n",
    "#         u[nx-1]= u[0]\n",
    "#         #print(i)\n",
    "\n",
    "\n",
    "    \n",
    "#     #u=np.nan_to_num(u) \n",
    "   \n",
    "#     #print(u)\n",
    "#     ufull[:,n]=u\n",
    "#      #all rows, nth timestep or all columns, ith space step\n",
    "# plt.plot(x, 2*np.sin(np.pi/2*x)*np.exp(-np.pi**2/16 *(nt-1)*dt)-np.sin(np.pi*x)*np.exp(-np.pi**2/4*(nt-1)*dt)-np.sin(2*np.pi*x)*np.exp(-np.pi**2*(nt-1)*dt),'r')\n",
    "# plt.plot(x, ufull[:,nt-1]) #plot when t=3\n",
    "# #print(ufull[:,3])"
   ]
  },
  {
   "cell_type": "code",
   "execution_count": 204,
   "metadata": {},
   "outputs": [
    {
     "name": "stdout",
     "output_type": "stream",
     "text": [
      "1\n",
      "3\n",
      "0.0030842513753404246\n",
      "1.0061685027506808\n"
     ]
    }
   ],
   "source": [
    "### coefficients ### \n",
    "AA=alpha*dt/2*dx**2 \n",
    "BB=1+2*AA\n",
    "\n",
    "main_diag = -BB*np.ones((1,nx-2)) #main diagonal consists of -BBs\n",
    "#print(main_diag.shape[0]) \n",
    "#print(main_diag.shape[1]) \n",
    "off_diag = AA*np.ones((1, nx-3)) #lower and upper diagnonals are AAs\n",
    "a = main_diag.shape[1] #the second index of shape, i.e. nx-2 (the bounds are not included)\n",
    "diagonals = [main_diag, off_diag, off_diag]\n",
    "\n",
    "    #Sparse Matrix diagonals\n",
    "A = sparse.diags(diagonals, [0,-1,1], shape=(a,a)).toarray()\n",
    "print(AA)\n",
    "print(BB)"
   ]
  },
  {
   "cell_type": "code",
   "execution_count": 205,
   "metadata": {},
   "outputs": [],
   "source": [
    "un = u.copy() #copy all the us into un one time before running the loop\n",
    "import sys"
   ]
  },
  {
   "cell_type": "code",
   "execution_count": 206,
   "metadata": {},
   "outputs": [
    {
     "data": {
      "text/plain": [
       "[<matplotlib.lines.Line2D at 0x1a192b0da0>]"
      ]
     },
     "execution_count": 206,
     "metadata": {},
     "output_type": "execute_result"
    },
    {
     "data": {
      "image/png": "[encoded data removed]",
      "text/plain": [
       "<Figure size 432x288 with 1 Axes>"
      ]
     },
     "metadata": {},
     "output_type": "display_data"
    }
   ],
   "source": [
    "for n in range(nt):\n",
    "    \n",
    "    \n",
    "    k=np.zeros([nx-2]) #A*U=K\n",
    "    for i in range (2,nx-3):\n",
    "        k[i]=-un[i]-AA*(un[i+1]-2*un[i]+un[i-1])\n",
    "    k[1]=-un[1]-AA*(un[2]-2*un[1]+un[0])-AA*un[0] #the bounds affect the 1st and nx-3th index\n",
    "    k[nx-3]=-un[nx-3]-AA*(un[nx-2]-2*un[nx-3]+un[nx-4])-AA*un[nx-1]\n",
    "\n",
    "     \n",
    "    \n",
    "\n",
    "    u[0:nx-2]=np.dot(np.linalg.inv(A),k.T) #U= inverse of A * transpose of K\n",
    "    \n",
    "    #shifted if 1-nx-1\n",
    "    un = u.copy()\n",
    " \n",
    "    \n",
    "    #u=np.nan_to_num(u) \n",
    "   \n",
    "    #print(u)\n",
    "    ufull[:,n]=u\n",
    "    \n",
    "     #all rows, nth timestep or all columns, ith space step\n",
    "plt.plot(x, 2*np.sin(np.pi/2*x)*np.exp(-np.pi**2/16 *(nt-1)*dt)-np.sin(np.pi*x)*np.exp(-np.pi**2/4*(nt-1)*dt)-np.sin(2*np.pi*x)*np.exp(-np.pi**2*(nt-1)*dt),'r')\n",
    "plt.plot(x, ufull[:,nt-1]) #plot when t=3\n",
    "#print(ufull)\n",
    "#print(ufull[:,3])"
   ]
  },
  {
   "cell_type": "code",
   "execution_count": 209,
   "metadata": {},
   "outputs": [
    {
     "data": {
      "text/plain": [
       "[<matplotlib.lines.Line2D at 0x1a19b3ba58>]"
      ]
     },
     "execution_count": 209,
     "metadata": {},
     "output_type": "execute_result"
    },
    {
     "data": {
      "image/png": "[encoded data removed]",
      "text/plain": [
       "<Figure size 432x288 with 1 Axes>"
      ]
     },
     "metadata": {},
     "output_type": "display_data"
    }
   ],
   "source": [
    "tFinal = 9\n",
    "plt.plot(x, 2*np.sin(np.pi/2*x)*np.exp(-np.pi**2/16 *tFinal*dt)-np.sin(np.pi*x)*np.exp(-np.pi**2/4*tFinal*dt)-np.sin(2*np.pi*x)*np.exp(-np.pi**2*tFinal*dt),'r')\n",
    "\n",
    "plt.plot(x, ufull[:,tFinal]) #plot when t=3"
   ]
  },
  {
   "cell_type": "code",
   "execution_count": 180,
   "metadata": {},
   "outputs": [
    {
     "name": "stdout",
     "output_type": "stream",
     "text": [
      "0.0\n"
     ]
    }
   ],
   "source": [
    "k=np.zeros(nx-3)\n",
    "print(k[nx-4])"
   ]
  },
  {
   "cell_type": "code",
   "execution_count": 44,
   "metadata": {},
   "outputs": [
    {
     "data": {
      "text/plain": [
       "array([[ 5],\n",
       "       [10]])"
      ]
     },
     "execution_count": 44,
     "metadata": {},
     "output_type": "execute_result"
    }
   ],
   "source": [
    "c=np.dot(A,[[2],[3]])\n",
    "c"
   ]
  },
  {
   "cell_type": "code",
   "execution_count": 59,
   "metadata": {},
   "outputs": [
    {
     "data": {
      "text/plain": [
       "1.0000000099211459e+192"
      ]
     },
     "execution_count": 59,
     "metadata": {},
     "output_type": "execute_result"
    }
   ],
   "source": [
    "np.linalg.cond(A)"
   ]
  },
  {
   "cell_type": "code",
   "execution_count": 110,
   "metadata": {},
   "outputs": [
    {
     "name": "stdout",
     "output_type": "stream",
     "text": [
      "(48, 48)\n"
     ]
    }
   ],
   "source": [
    "AA=alpha*dt/2*dx**2\n",
    "BB=0+0*AA\n",
    "main_diag = -BB*np.ones((1,nx-2))\n",
    "off_diag = AA*np.ones((1, nx-3))\n",
    "a = main_diag.shape[1]\n",
    "diagonals = [main_diag, 10**(-8)*off_diag, off_diag]\n",
    "\n",
    "    #Sparse Matrix diagonals\n",
    "A = sparse.diags(diagonals, [0,-1,1], shape=(a,a)).toarray()\n",
    "print(A.shape)"
   ]
  },
  {
   "cell_type": "code",
   "execution_count": null,
   "metadata": {},
   "outputs": [],
   "source": []
  }
 ],
 "metadata": {
  "kernelspec": {
   "display_name": "Python 3",
   "language": "python",
   "name": "python3"
  },
  "language_info": {
   "codemirror_mode": {
    "name": "ipython",
    "version": 3
   },
   "file_extension": ".py",
   "mimetype": "text/x-python",
   "name": "python",
   "nbconvert_exporter": "python",
   "pygments_lexer": "ipython3",
   "version": "3.6.5"
  }
 },
 "nbformat": 4,
 "nbformat_minor": 2
}
